{
  "nbformat": 4,
  "nbformat_minor": 0,
  "metadata": {
    "colab": {
      "provenance": []
    },
    "kernelspec": {
      "name": "python3",
      "display_name": "Python 3"
    },
    "language_info": {
      "name": "python"
    }
  },
  "cells": [
    {
      "cell_type": "markdown",
      "source": [
        "#Assignment Questions\n"
      ],
      "metadata": {
        "id": "u_UYIavOc7sM"
      }
    },
    {
      "cell_type": "markdown",
      "source": [
        "1.  Explain the different types of data (qualitative and quantitative) and provide examples of each. Discuss nominal, ordinal, interval, and ratio scales.\n",
        "ANS: Data can be categorized by Qualitative and Quantitative data. Each data type measured on specific scales i.e nominal, ordinal, interval, and ratio scales.\n",
        "\n",
        "Qualitative: This type of data represents the categories or labels that describe characteristics or attributes of an object. Scales of measurement for Qualitative data:\n",
        "- Nominal scale: Data is grouped into categories with no specific order. e.g: gender, religion.\n",
        "- Ordinal scale: In this order and rank matters, but the difference between categories is not quantifiable e.g.: grade & rank\n",
        "\n",
        "Quantitative: This type of data represents numerical values and can be measured or counted.\n",
        "- Interval Scale: Numerical data where the intervals between values are equal , but there is no true zero point. In this the rank and order matters. In this difference can measured. e.g: Calendar years\n",
        "- Ratio Scale: Numerical data where the intervals are equal, and there is a true zero point, means zero indicates the absence of the quantity. In this difference and ratio are measurable. e.g: Height, Weight\n"
      ],
      "metadata": {
        "id": "sqGom4whc-WH"
      }
    },
    {
      "cell_type": "markdown",
      "source": [
        "2. What are the measures of central tendency, and when should you use each? Discuss the mean, median, and mode with examples and situations where each is appropriate.\n",
        "ANS: Measures of central tendency represents the center point of a dataset which used mean, median, mode.\n",
        "- Mean: The mean is the sum of all the data points divided by the total number of data points. It's affected by outlier.\n",
        "example: dataset= 4,6,8,10,12.\n",
        "mean = 4+6+8+10+12/5= 8\n",
        "Use: When the data is quantitative and symmetric.\n",
        "     Suitable for datasets where all values contribute equally.\n",
        "\n",
        "- Median: It is the middle value of a dataset when it is ordered from smallest to largest. Its not affected by outlier.\n",
        "example: dataset= 4,6,8,10,12.\n",
        "Median= 8\n",
        "Use: When the data is quantitative or ordinal and may have outliers or a skewed distribution.\n",
        "\n",
        "- Mode: It is the most frequently occurring value in dataset.\n",
        "example: dataset= 2,3,5,4,5,5,6\n",
        "Mode= 5\n",
        "Use: When the data is qualitative data or quantitative data when identifying the most common value is relevant."
      ],
      "metadata": {
        "id": "cH6dRozChhhX"
      }
    },
    {
      "cell_type": "markdown",
      "source": [
        "3. Explain the concept of dispersion. How do variance and standard deviation measure the spread of data?\n",
        "ANS: Dispersion refers to the extent to which data values in a dataset are spread out or scattered. It measures how much the data deviates from its central value. Types of Dispersion Measures: Range, Variance, Standard deviation, Interquartile Range, Mean Absolute Deviation.\n",
        "- Variance: The spread of the data by calculating the average of the squared deviations from the mean. It talks about spread at an overall levels.\n",
        "- Standard deviation : It is the square root of the variance. It measures the average distance of each data point from the mean."
      ],
      "metadata": {
        "id": "jubLr4PxK63M"
      }
    },
    {
      "cell_type": "markdown",
      "source": [
        "4. What is a box plot, and what can it tell you about the distribution of data?\n",
        "ANS: A box plot is also known as a box-and-whisker plot is a graphical representation of a dataset that shows its distribution , central tendency, and variability. It is useful for identifying outliers and understanding the spread and symmetry of the data.\n",
        "what can it tell you about the distribution of data?\n",
        "- Center: The Median line inside the box shows the central tendency of the data.\n",
        "- Spread: The length of the box (IQR) shows the spread of the middle 50% of the data. Longer boxes indicate more variability, whiler shorter boxes suggest less varibiliity.\n",
        "- Symmetry: If the median line is centered within the box and whiskers are roughly equal on both sides, the data is approximately symmetric. If the median is unequal, the data is skewed.\n",
        "- Outliers: Point outside the whiskers are outliers , which may indicate errors, unusual values.\n",
        "- Range: The distance between the smallest and largest non-outlier data points represents the range of the dataset."
      ],
      "metadata": {
        "id": "SVcV-ktmNwJ4"
      }
    },
    {
      "cell_type": "markdown",
      "source": [
        "5. Discuss the role of random sampling in making inferences about populations.\n",
        "ANS: It is a concept in statistics that involves selecting a subset of individuals or observation from a larger population in a way the every member of the population has an equal chance of being included. It plays a critical role in making inferences about a population because it ensures that the sample is representative, minimizes bias, and allows for the use of statistical methods to generalize findings from the sample of the population."
      ],
      "metadata": {
        "id": "Iw5QjIKjQXZG"
      }
    },
    {
      "cell_type": "markdown",
      "source": [
        "6.  Explain the concept of skewness and its types. How does skewness affect the interpretation of data?\n",
        "ANS: Skewness is a statistical measure that describes the degree of asymmetry in the distribution of data. It indicates whether the data points are concentrated more on one side of the distribution 's central value than the other, resulting in skewed shape rather than a symmetric one. The effect of skewness on data interpretation impact on measures of central tendency,  its effect on data spread, its impact on statistical analysis and interpretation challenges.\n",
        "Types of Skewness:\n",
        "- Symmetric Distribution: The data is evenly distributed around the mean, with no skewness.\n",
        "- Positively Skewed Distribution: The tail of the distribution extends to the right .\n",
        "- Negatively Skewed Distribution: The tail of the distribution extends to the left ."
      ],
      "metadata": {
        "id": "lUWori6sT6ci"
      }
    },
    {
      "cell_type": "markdown",
      "source": [
        "7. What is the interquartile range (IQR), and how is it used to detect outliers?\n",
        "ANS: The IQR is a measure of statistical dispersion that represents the range within which the middle 50% of a dataet lies. It is calculated as the difference between the third quartile and the first quartile. The IQR is used to identify outliers beacuse it focuses on the central portion of the data, ignoring extremes. Outliers are defined as data points that lie: Lower bound= Q1-1.5 X IQR and Upper bound= Q3-1.5 X IQR"
      ],
      "metadata": {
        "id": "RrOf8LmYaNwG"
      }
    },
    {
      "cell_type": "markdown",
      "source": [
        "8. Discuss the conditions under which the binomial distribution is used.\n",
        "ANS: The binomial distribution is a discrete probability distribution used to model the number of successes in a fixed number of independent trails of a binary experiment. Each trial has two outcomes i.e success or failure. To use the binomial distribution, the following conditions must be satisfied.\n",
        "- Fixed number of trails: It must consist of specific, fixed number of trails.\n",
        "- Binary Outcomes: Each trial has two outcomes i.e success or failure.\n",
        "- Independence of Trails: The outcome of any one trail should not influence the outcome of another.\n",
        "- Constant Probability of success: The Probability of success must remain the same across all trails.\n",
        "- Discrete Outcomes: The binomial distribution deals with a count of success, which is a discrete variable."
      ],
      "metadata": {
        "id": "XQwX42OLbZa-"
      }
    },
    {
      "cell_type": "markdown",
      "source": [
        "9. Explain the properties of the normal distribution and the empirical rule (68-95-99.7 rule).\n",
        "ANS: The normal distribution also known as the Gaussian distribution, is a continuous probability distribution that is symmetric around its mean. The properties of the normal distribution such as\n",
        "- Bell- shaped curve: The graph of the normal distribution is symmetric and bell-shaped, with the highest point at the mean.\n",
        "- Symmetry: The distribution is symmetric about the mean , the left and right sides of the curve are mirror images.\n",
        "- Mean, Median, and Mode: The Mean, Median, and Mode are all equal and located  the center of the distribution.\n",
        "- Standard Deviation: The spread of variability of the data is described by the Standard Deviation.\n",
        "\n",
        "Empirical rule (68-95-99.7 rule):\n",
        "It provides a  quick way to understand the spread of data in normal distribution in terms of standard deviations from the mean. also, helps determine whether a dataset is approximately normal by checking how well the data aligns with the 68-95-99.7 percentages.\n",
        "- 68% of data: Approximately 68% of the data falls within 1 standard deviation of the mean.\n",
        "- 95% of data: Approximately 95% of the data falls within 2 standard deviation of the mean.\n",
        "- 99.7% of data: Approximately 99.7% of the data falls within 3 standard deviation of the mean."
      ],
      "metadata": {
        "id": "5Bd_l-FNduQZ"
      }
    },
    {
      "cell_type": "markdown",
      "source": [
        "10.  Provide a real-life example of a Poisson process and calculate the probability for a specific event.\n",
        "ANS: A Poisson process occurring randomly over a fixed interval of time, space or volume where: Events occur independently, The average rate of events is constant, Two events cannot occur at the same instant.\n",
        "Example:\n",
        "Suppose a coffee shop receives an average of 5 customers per hour.\n",
        "Poisson process: Customer arrivals are random and independent. The average rate is constant at 5 customers per hour. Customers arrive individually.\n",
        "Calculations:"
      ],
      "metadata": {
        "id": "G_8myTFjgrqo"
      }
    },
    {
      "cell_type": "code",
      "execution_count": 1,
      "metadata": {
        "colab": {
          "base_uri": "https://localhost:8080/"
        },
        "id": "ElHFGdOQctUx",
        "outputId": "725f0e33-9c30-48df-efef-7d6251d8eaa5"
      },
      "outputs": [
        {
          "output_type": "stream",
          "name": "stdout",
          "text": [
            "The probability of exactly 3 events is: 0.1404\n"
          ]
        }
      ],
      "source": [
        "import math\n",
        "lambda_val =5\n",
        "k=3\n",
        "probability= (math.exp(-lambda_val) * (lambda_val**k)) / math.factorial(k)\n",
        "print(f\"The probability of exactly {k} events is: {probability:.4f}\")"
      ]
    },
    {
      "cell_type": "markdown",
      "source": [
        "11.  Explain what a random variable is and differentiate between discrete and continuous random variables.\n",
        "ANS: A random variable is a numerical value assigned to the outcome of a random experiment. It is a function that maps the outcomes of a sample space to real numbers.\n",
        "Discrete random variables:\n",
        "- A random variables is discrete if it takes on a countable number of distinct values.\n",
        "- e.g: Numbers of cars in a parking lot\n",
        "- It uses probability mass function\n",
        "- It represents by bar graphs.\n",
        "\n",
        "Continuous random variables:\n",
        "- A random variables is continuous if it can take on an infinite number of values within a given range.\n",
        "- e.g: Temperature on a given day\n",
        "- It uses probability density function\n",
        "- It represents by smooth curves.\n"
      ],
      "metadata": {
        "id": "M18MZ0OCjnE5"
      }
    },
    {
      "cell_type": "markdown",
      "source": [
        "12.  Provide an example dataset, calculate both covariance and correlation, and interpret the results.\n"
      ],
      "metadata": {
        "id": "zpQhxQ8slqPV"
      }
    },
    {
      "cell_type": "code",
      "source": [
        "import numpy as np\n",
        "import pandas as pd\n",
        "data = {'X': [1,2,3,4,5], 'Y': [5,6,7,8,9]}\n",
        "df= pd.DataFrame(data)\n",
        "cov_matrix= np.cov(df['X'], df['Y'])\n",
        "corr_matrix= np.corrcoef((df['X'], df['Y']))\n",
        "print(\"Covariance Matrix:\")\n",
        "print(cov_matrix)\n",
        "print(\"\\nCorrelation Matrix:\")\n",
        "print(corr_matrix)"
      ],
      "metadata": {
        "colab": {
          "base_uri": "https://localhost:8080/"
        },
        "id": "aV8s1WqMlpkd",
        "outputId": "8b18dcc5-a96b-4101-89ce-d73d547fca63"
      },
      "execution_count": 2,
      "outputs": [
        {
          "output_type": "stream",
          "name": "stdout",
          "text": [
            "Covariance Matrix:\n",
            "[[2.5 2.5]\n",
            " [2.5 2.5]]\n",
            "\n",
            "Correlation Matrix:\n",
            "[[1. 1.]\n",
            " [1. 1.]]\n"
          ]
        }
      ]
    }
  ]
}